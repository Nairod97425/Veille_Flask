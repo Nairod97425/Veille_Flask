{
 "cells": [
  {
   "cell_type": "markdown",
   "id": "92357e47",
   "metadata": {},
   "source": [
    "# 🚀 Qu'est que Flask ?\n",
    "\n",
    "- **Flask** est un **framework** web léger pour **Python**.\n",
    "- Ça veut dire qu'il permet de créer des **appclications web** facilement : sites internet, API (services qu’un autre programme peut utiliser), tableaux de bord, etc.\n",
    "- Il est **léger et flexible** : tu ajoutes seulement ce dont tu as besoin (contrairement à Django, qui est plus \"tout-en-un\").\n",
    "\n",
    "# 🔧 À quoi ça sert ?\n",
    "\n",
    "Avec flask, tu peux : \n",
    "- Créer un **site web simple**(blog, portfolio, mini-application). \n",
    "- Développer une **Api** (ex pour une appliccation mobile).\n",
    "- Faire un **Prototype rapide** d'idée.\n",
    "- Construire un **back-end léger** pour un projet personnel ou une startup.\n",
    "\n",
    "# 📚 Comment l'utiliser ?\n",
    "\n",
    "## Installation"
   ]
  },
  {
   "cell_type": "code",
   "execution_count": null,
   "id": "00b893e0",
   "metadata": {
    "vscode": {
     "languageId": "powershell"
    }
   },
   "outputs": [],
   "source": [
    "pip install flask"
   ]
  },
  {
   "cell_type": "markdown",
   "id": "683a06b9",
   "metadata": {},
   "source": [
    "## Exemple de base"
   ]
  },
  {
   "cell_type": "code",
   "execution_count": null,
   "id": "e26f9292",
   "metadata": {},
   "outputs": [],
   "source": [
    "from flask import Flask\n",
    "\n",
    "app = Flask(__name__)\n",
    "\n",
    "@app.route(\"/\") # page d'accueil\n",
    "def home():\n",
    "    return \"Bonjour, Flask fonctionne ! 🎉\"\n",
    "\n",
    "if __name__ == \"__main__\":\n",
    "    app.run(debug=True)\n"
   ]
  },
  {
   "cell_type": "markdown",
   "id": "250a6085",
   "metadata": {},
   "source": [
    "👉 En lançant ce script **(ex: python app.py)**, tu obtiens un site sur **http://127.0.0.1:5000/**. "
   ]
  },
  {
   "cell_type": "markdown",
   "id": "42a3f896",
   "metadata": {},
   "source": [
    "# ⏱️ Quand l'utiliser ?\n",
    "\n",
    "Flask est parfait si tu veux :\n",
    "✅ **Aller vite** et créer quelque chose de simple.\n",
    "✅ Avoir **beaucoup de liberté** pour structurer ton projet.\n",
    "✅ **Appredre le web en Python** sans être submergé.\n",
    "\n",
    "Par contre, si ton projet devient trés grand et complexe (ex: **un réseau social complet**), il est préférable de passer à un framework plus complet comme **Django**.\n",
    "\n",
    "# 💡 Infos utilies\n",
    "\n",
    "- Flask utilise le moteur de templates **Jinja2** → il est possible de générer du HTML avec du code python.\n",
    "- Il est possible d'ajouter facilement des extensions:\n",
    "    - **Flask-SQLAlchemy** → gérer une base de données.\n",
    "    - **Flask-Login** → gestion d’utilisateurs / authentification.\n",
    "    - **Flask-RESTful** → créer une API propre.\n",
    "- C'est trés populaire dans le monde des startups et pour faire des **prototypes rapides**."
   ]
  }
 ],
 "metadata": {
  "kernelspec": {
   "display_name": "Python 3",
   "language": "python",
   "name": "python3"
  },
  "language_info": {
   "codemirror_mode": {
    "name": "ipython",
    "version": 3
   },
   "file_extension": ".py",
   "mimetype": "text/x-python",
   "name": "python",
   "nbconvert_exporter": "python",
   "pygments_lexer": "ipython3",
   "version": "3.12.10"
  }
 },
 "nbformat": 4,
 "nbformat_minor": 5
}
